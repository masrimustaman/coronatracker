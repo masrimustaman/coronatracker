{
 "nbformat": 4,
 "nbformat_minor": 2,
 "metadata": {
  "language_info": {
   "name": "python",
   "codemirror_mode": {
    "name": "ipython",
    "version": 3
   },
   "version": "3.7.7-final"
  },
  "orig_nbformat": 2,
  "file_extension": ".py",
  "mimetype": "text/x-python",
  "name": "python",
  "npconvert_exporter": "python",
  "pygments_lexer": "ipython3",
  "version": 3,
  "kernelspec": {
   "name": "python37764bite5cbc9c6467e411896bc84eb2b9dcaa2",
   "display_name": "Python 3.7.7 64-bit"
  }
 },
 "cells": [
  {
   "cell_type": "code",
   "execution_count": 1,
   "metadata": {},
   "outputs": [],
   "source": [
    "import plotly.express as px\n",
    "import plotly.graph_objects as go\n",
    "import numpy as np\n",
    "import pandas as pd\n",
    "import pydeck as pdk"
   ]
  },
  {
   "cell_type": "code",
   "execution_count": 2,
   "metadata": {},
   "outputs": [],
   "source": [
    "df_confirmed = pd.read_csv('https://raw.githubusercontent.com/CSSEGISandData/COVID-19/master/csse_covid_19_data/csse_covid_19_time_series/time_series_covid19_confirmed_global.csv')\n",
    "\n",
    "df_deaths = pd.read_csv('https://raw.githubusercontent.com/CSSEGISandData/COVID-19/master/csse_covid_19_data/csse_covid_19_time_series/time_series_covid19_deaths_global.csv')\n",
    "\n",
    "# df_recovered = pd.read_csv('https://raw.githubusercontent.com/CSSEGISandData/COVID-19/master/csse_covid_19_data/csse_covid_19_time_series/time_series_covid19_recovered_global.csv')\n",
    "\n",
    "country_df = pd.read_csv('https://raw.githubusercontent.com/CSSEGISandData/COVID-19/web-data/data/cases_country.csv')"
   ]
  },
  {
   "cell_type": "code",
   "execution_count": 7,
   "metadata": {},
   "outputs": [
    {
     "output_type": "stream",
     "name": "stdout",
     "text": "2020-04-19 09:13:57\n"
    }
   ],
   "source": [
    "# test\n",
    "\n",
    "\n",
    "\n",
    "print(country_df['Last_Update'].min())"
   ]
  },
  {
   "cell_type": "code",
   "execution_count": null,
   "metadata": {},
   "outputs": [],
   "source": [
    "confirmed_total = country_df['Confirmed'].sum()\n",
    "death_total = country_df['Deaths'].sum()\n",
    "recovered_total = country_df['Recovered'].sum()\n",
    "active_total = country_df['Active'].sum()\n",
    "\n",
    "print (\"Global\")\n",
    "print (\"Confirmed: \"  + str(confirmed_total))\n",
    "print (\"Deaths: \" + str(death_total))\n",
    "print(\"Recovered: \" + str(recovered_total))\n",
    "print(\"Active: \" + str(active_total))"
   ]
  },
  {
   "cell_type": "code",
   "execution_count": null,
   "metadata": {},
   "outputs": [],
   "source": [
    "country_df[country_df['Country_Region'] == 'Malaysia']"
   ]
  },
  {
   "cell_type": "code",
   "execution_count": null,
   "metadata": {},
   "outputs": [],
   "source": [
    "malaysia_value = country_df[country_df['Country_Region'] == 'Malaysia']\n",
    "confirmed_malaysia = malaysia_value['Confirmed'].sum()\n",
    "death_malaysia = malaysia_value['Deaths'].sum()\n",
    "recovered_malaysia = malaysia_value['Recovered'].sum()\n",
    "active_malaysia = malaysia_value['Active'].sum()\n",
    "\n",
    "print (\"Malaysia\")\n",
    "print (\"Confirmed: \"  + str(confirmed_malaysia))\n",
    "print (\"Deaths: \" + str(death_malaysia))\n",
    "print(\"Recovered: \" + str(recovered_malaysia))\n",
    "print(\"Active: \" + str(active_malaysia))"
   ]
  },
  {
   "cell_type": "code",
   "execution_count": null,
   "metadata": {},
   "outputs": [],
   "source": [
    "n = 10"
   ]
  },
  {
   "cell_type": "code",
   "execution_count": null,
   "metadata": {},
   "outputs": [],
   "source": [
    "country_df.sort_values(\"Confirmed\", ascending = False).head(n)"
   ]
  },
  {
   "cell_type": "code",
   "execution_count": null,
   "metadata": {},
   "outputs": [],
   "source": [
    "fig = px.bar(country_df.sort_values(\"Confirmed\", ascending = False).head(n), x='Country_Region', y='Confirmed',\n",
    "             hover_data=['Deaths', 'Recovered', 'Active'], color='Deaths',\n",
    "             labels={'Confirmed':'Confirmed Counts'}, height=400)\n",
    "\n",
    "fig.show()"
   ]
  },
  {
   "cell_type": "code",
   "execution_count": null,
   "metadata": {},
   "outputs": [],
   "source": [
    "fig = px.bar(country_df.sort_values(\"Deaths\", ascending = False).head(n), x='Country_Region', y='Deaths',\n",
    "             hover_data=['Confirmed', 'Recovered', 'Active'], color='Deaths',\n",
    "             labels={'Deaths':'Deaths Counts'}, height=400)\n",
    "\n",
    "fig.show()"
   ]
  },
  {
   "cell_type": "code",
   "execution_count": null,
   "metadata": {},
   "outputs": [],
   "source": [
    "fig = px.bar(country_df.sort_values(\"Active\", ascending = False).head(n), x='Country_Region', y='Active',\n",
    "             hover_data=['Confirmed', 'Deaths', 'Recovered'], color='Deaths',\n",
    "             labels={'Active':'Active Counts'}, height=400)\n",
    "\n",
    "fig.show()"
   ]
  },
  {
   "cell_type": "code",
   "execution_count": null,
   "metadata": {},
   "outputs": [],
   "source": [
    "fig = px.bar(country_df.sort_values(\"Recovered\", ascending = False).head(n), x='Country_Region', y='Recovered',\n",
    "             hover_data=['Confirmed', 'Deaths', 'Active'], color='Deaths',\n",
    "             labels={'Recovered':'Recovered Counts'}, height=400)\n",
    "\n",
    "fig.show()"
   ]
  },
  {
   "cell_type": "code",
   "execution_count": null,
   "metadata": {},
   "outputs": [],
   "source": [
    "fig = px.scatter(country_df.sort_values(\"Confirmed\", ascending = False).head(n), x=\"Country_Region\", y=\"Confirmed\", size=\"Confirmed\", color=\"Country_Region\",\n",
    "               hover_data=['Deaths', 'Recovered', 'Active'], size_max=60)\n",
    "fig.update_layout(\n",
    "    title=str(n) +\" Worst hit countries\",\n",
    "    xaxis_title=\"Countries\",\n",
    "    yaxis_title=\"Confirmed Cases\",\n",
    "    width = 700\n",
    "    )\n",
    "fig.show()"
   ]
  },
  {
   "cell_type": "code",
   "execution_count": null,
   "metadata": {},
   "outputs": [],
   "source": [
    "fig = px.scatter(country_df.head(n), x=\"Country_Region\", y=\"Confirmed\", size=\"Confirmed\", color=\"Country_Region\",\n",
    "               hover_data=['Deaths', 'Recovered', 'Active'], size_max=60)\n",
    "fig.update_layout(\n",
    "    title=str(n) +\" Worst hit countries\",\n",
    "    xaxis_title=\"Countries\",\n",
    "    yaxis_title=\"Confirmed Cases\",\n",
    "    width = 700\n",
    "    )\n",
    "fig.show()"
   ]
  },
  {
   "cell_type": "code",
   "execution_count": null,
   "metadata": {},
   "outputs": [],
   "source": [
    "# def dfT (country):\n",
    "#     dftest1 = df_confirmed[df_confirmed['Country/Region'] == country].transpose()\n",
    "#     dftest1.drop(['Province/State', 'Country/Region', 'Lat', 'Long'], inplace = True)\n",
    "#     newcol1 = country + \" Confirmed\"\n",
    "#     dftest1[newcol1] = dftest1.sum(axis=1)\n",
    "#     dftest1 = dftest1.iloc[:,-1:]\n",
    "\n",
    "#     dftest2 = df_deaths[df_deaths['Country/Region'] == country].transpose()\n",
    "#     dftest2.drop(['Province/State', 'Country/Region', 'Lat', 'Long'], inplace = True)\n",
    "#     newcol2 = country + \" Deaths\"\n",
    "#     dftest2[newcol2] = dftest2.sum(axis=1)\n",
    "#     dftest2 = dftest2.iloc[:,-1:]\n",
    "\n",
    "#     result = dftest1.join(dftest2)\n",
    "\n",
    "#     fig = px.scatter(result, y = newcol1)\n",
    "\n",
    "#     # fig.add_scatter(result, y=newcol2)\n",
    "\n",
    "#     fig.show()\n",
    "\n",
    "# dfT(\"Australia\")"
   ]
  },
  {
   "cell_type": "code",
   "execution_count": null,
   "metadata": {},
   "outputs": [],
   "source": [
    "def plot_cases_of_a_country(country):\n",
    "    df_confirmed_average = df_confirmed.mean(axis=0).to_frame().transpose()\n",
    "    df_deaths_average = df_deaths.mean(axis=0).to_frame().transpose()\n",
    "    \n",
    "    label1 = ['confirmed', 'deaths']\n",
    "    label2 = ['confirmed_avg', 'deaths_avg']\n",
    "\n",
    "    \n",
    "    df_list1 = [df_confirmed, df_deaths]#, df_confirmed_average, df_deaths_average]\n",
    "    df_list2 = [df_confirmed_average, df_deaths_average]\n",
    "\n",
    "    fig = go.Figure()\n",
    "    \n",
    "    for i, df in enumerate(df_list1):\n",
    "        x_data = np.array(list(df.iloc[:, -30:].columns))\n",
    "        y_data = np.sum(np.asarray(df[df['Country/Region'] == country].iloc[:,-30:]),axis = 0)\n",
    "            \n",
    "        fig.add_trace(go.Scatter(x=x_data, y=y_data, mode='lines',#'lines+markers',\n",
    "        name=label1[i],\n",
    "        text = \"Total \" + str(label1[i]) +\": \"+ str(y_data[-1])\n",
    "        ))\n",
    "\n",
    "    for i, df in enumerate(df_list2):\n",
    "        x_data = np.array(list(df.iloc[:, -30:].columns))\n",
    "        y_data = np.sum(np.asarray(df.iloc[:,-30:]),axis = 0)\n",
    "            \n",
    "        fig.add_trace(go.Scatter(x=x_data, y=y_data, mode='lines',#'lines+markers',\n",
    "        name=label2[i],\n",
    "        text = \"Average \" + str(label2[i]) +\": \"+ str(y_data[-1])\n",
    "        ))\n",
    "    \n",
    "    fig.update_layout(\n",
    "        title=\"COVID 19 cases of \" + country,\n",
    "        xaxis_title='Date',\n",
    "        yaxis_title='No. of Confirmed Cases'\n",
    "    )\n",
    "    \n",
    "    fig.show()\n",
    "\n",
    "plot_cases_of_a_country(\"Malaysia\")"
   ]
  },
  {
   "cell_type": "code",
   "execution_count": null,
   "metadata": {},
   "outputs": [],
   "source": [
    "country_df[country_df['Country_Region'] == \"Italy\"]"
   ]
  },
  {
   "cell_type": "code",
   "execution_count": null,
   "metadata": {},
   "outputs": [],
   "source": [
    "layer = pdk.Layer(\n",
    "    \"ScatterplotLayer\",\n",
    "    country_df,\n",
    "    pickable=True,\n",
    "    opacity=0.8,\n",
    "    stroked=True,\n",
    "    filled=True,\n",
    "    radius_scale=6,\n",
    "    radius_min_pixels=1,\n",
    "    radius_max_pixels=100,\n",
    "    line_width_min_pixels=1,\n",
    "    get_position=['Long_', 'Lat'],\n",
    "    get_radius=\"Confirmed\",\n",
    "    get_fill_color=[255, 140, 0],\n",
    "    get_line_color=[0, 0, 0],\n",
    ")\n",
    "\n",
    "# Set the viewport location\n",
    "view_state = pdk.ViewState(latitude=4.210484, longitude=101.975766, zoom=5, bearing=0, pitch=0)\n",
    "\n",
    "# Render\n",
    "r = pdk.Deck(map_style='mapbox://styles/mapbox/light-v9', layers=[layer], initial_view_state=view_state, tooltip={\"text\": \"{Country_Region}\\n Confirmed : {Confirmed}\"})\n",
    "# r = pdk.Deck(layers=[layer], tooltip={\"text\": \"{Country_Region}\\n Confirmed Cases: {Confirmed}\"})\n",
    "r.to_html(\"scatterplot_layer.html\", notebook_display=False)"
   ]
  },
  {
   "cell_type": "code",
   "execution_count": null,
   "metadata": {},
   "outputs": [],
   "source": []
  }
 ]
}